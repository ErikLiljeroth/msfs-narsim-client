{
 "cells": [
  {
   "cell_type": "code",
   "execution_count": 1,
   "metadata": {},
   "outputs": [],
   "source": [
    "import asyncio\n"
   ]
  },
  {
   "cell_type": "code",
   "execution_count": 1,
   "metadata": {},
   "outputs": [],
   "source": [
    "xmlTemplate = '<?xml version=\"1.0\" encoding=\"UTF-8\"?><NLRIn source=\"NARSIM\" xmlns:sti=\"http://www.w3.org/2001/XMLSchema-instance\"><truth><callsign>{callsign}</callsign><ssr_s>877777</ssr_s><lat unit=\"deg\">{lat}</lat>'\\\n",
    "    '<lon unit=\"deg\">{lon}</lon><alt unit=\"ft\">{alt}</alt><gspd unit=\"ms\">{gspd}</gspd><crs unit=\"degrees\">{crs}</crs><v_rate unit=\"ms\">{v_rate}</v_rate><turn_rate>{turn_rate}</turn_rate></truth></NLRIn>'"
   ]
  },
  {
   "cell_type": "code",
   "execution_count": 17,
   "metadata": {},
   "outputs": [],
   "source": [
    "import socket\n",
    "import time\n",
    "import numpy as np\n",
    "from SimConnect import *\n",
    "from SimConnect.Enum import *\n",
    "import configparser\n",
    "\n",
    "# Constants\n",
    "KNOTS_TO_METER_PER_SEC =  0.51444\n",
    "\n",
    "# config for e.g. conenctions\n",
    "config = configparser.ConfigParser()\n",
    "config.read('./configuration.conf')\n",
    "\n",
    "xmlTemplate = '<?xml version=\"1.0\" encoding=\"UTF-8\"?><NLRIn source=\"NARSIM\" xmlns:sti=\"http://www.w3.org/2001/XMLSchema-instance\"><truth><callsign>{callsign}</callsign><ssr_s>877777</ssr_s><lat unit=\"deg\">{lat}</lat>'\\\n",
    "    '<lon unit=\"deg\">{lon}</lon><alt unit=\"ft\">{alt}</alt><gspd unit=\"ms\">{gspd}</gspd><crs unit=\"degrees\">{crs}</crs><v_rate unit=\"ms\">{v_rate}</v_rate><turn_rate>{turn_rate}</turn_rate></truth></NLRIn>'\n",
    "# Lägg till v_rate och turn_rate från sim\n",
    "\n",
    "\n",
    "# TODO\n",
    "xmlFlightplan = '''<?xml version=\"1.0\" encoding=\"UTF-8\"?>\n",
    "<NLRIn source=\"NARSIM\" xmlns:sti=\"http://www.w3.org/2001/XMLSchema-instance\"><flightplan><callsign>SAS123</callsign><ssr_s>877777</ssr_s><clr_fl unit=\"ft\">5000</clr_fl></flightplan></NLRIn>'''\n",
    "\n",
    "'''\n",
    "MSFS event variable names for SimConnect\n",
    "Confirmed and working as of 29 nov 2022. Unit as received from SimConnect.\n",
    "'''\n",
    "lat_varname = 'PLANE_LATITUDE'# [degrees]\n",
    "lon_varname = 'PLANE_LONGITUDE'# [degrees]\n",
    "alt_varname = 'PLANE_ALTITUDE'# [ft]\n",
    "gspd_varname = 'GROUND_VELOCITY'# [kts]\n",
    "crs_varname = 'PLANE_HEADING_DEGREES_TRUE'# [radians]\n",
    "v_rate_varname = 'VELOCITY_BODY_Y' # [feet per second]\n",
    "turn_rate_varname = 'ROTATION_VELOCITY_BODY_Y' # [feet per second] ??? Simconnect API docs wrong??\n",
    "long_acc_varname = 'ACCELERATION_BODY_Z' #  [feet per second2]\n",
    "v_acc_varname = 'ACCELERATION_BODY_Y' # [feet per second2]\n",
    "\n",
    "\n",
    "lat_finder = lon_finder = alt_finder = gspd_finder = crs_finder = v_rate_finder = turn_rate_finder = ''\n",
    "toa = lat = lon = alt = gspd = crs = v_rate = turn_rate = long_acc = v_acc = 0\n",
    "\n",
    "# connections\n",
    "NARSIM_IP = config['NARSIM']['IP']\n",
    "NARSIM_PORT = config['NARSIM']['PORT']\n",
    "\n",
    "# Time interval of solo flight feeder\n",
    "time_interval_feeder = 1/float(config['solo-flight-feeder']['frequency'])\n",
    "\n",
    "\n",
    "# Initialize all as False\n",
    "MSFS_is_connected = False\n",
    "MSFS_data_stream_is_initialized = False\n",
    "NARSIM_is_connected = False\n",
    "# Set to False for debug with MSFS only\n",
    "send_data_to_NARSIM = False\n",
    "\n",
    "# flight plan\n",
    "callsign = config['flightplan']['callsign']\n",
    "\n",
    "# think of smarter way to do this\n",
    "def connect_MSFS() -> AircraftRequests:\n",
    "    try:\n",
    "        sm = SimConnect() # Object for Connection to MSFS\n",
    "        MSFS_is_connected = True\n",
    "        print('MSFS successfully connected!')\n",
    "        ar = AircraftRequests(sm) # Object for requesting MSFS variables\n",
    "        return ar, MSFS_is_connected\n",
    "\n",
    "    except (ConnectionError, OSError):\n",
    "        print('Unable to establish connection with MSFS. Make sure MSFS is running.')\n",
    "        input('Press enter to attempt new connection.')\n",
    "\n",
    "def connect_NARSIM(s) -> bool:\n",
    "    try:\n",
    "        s.connect((NARSIM_IP, NARSIM_PORT))\n",
    "        print('NARSIM successfully connected!')\n",
    "        NARSIM_is_connected = True\n",
    "        return NARSIM_is_connected\n",
    "    except socket.error as msg:\n",
    "        print(f'Unable to connect to NARSIM, TCP socket error: ' + msg)\n",
    "\n"
   ]
  },
  {
   "cell_type": "code",
   "execution_count": 18,
   "metadata": {},
   "outputs": [
    {
     "name": "stdout",
     "output_type": "stream",
     "text": [
      "MSFS successfully connected!\n",
      "{'callsign': 'SAS123', 'toa': 1669752923.5388896, 'lat': 55.84668874815252, 'lon': 12.910687866035222, 'alt': 3776.1548444931755, 'gspd': 116.10361393683779, 'crs': 5.839726880028089, 'v_rate': -21.977177851807756, 'turn_rate': 0.0004814625671218367, 'long_acc': -0.20894341534684507, 'v_acc': -0.340988411213941}\n",
      "{'callsign': 'SAS123', 'toa': 1669752923.8785567, 'lat': 55.84699729799737, 'lon': 12.910399803107495, 'alt': 3775.7736991444945, 'gspd': 116.0850566113317, 'crs': 5.8397607564399365, 'v_rate': -22.120309154973512, 'turn_rate': 8.001956433373322e-06, 'long_acc': -0.2606532188547343, 'v_acc': -0.6585309969117202}\n",
      "{'callsign': 'SAS123', 'toa': 1669752924.2475584, 'lat': 55.8473418469741, 'lon': 12.910072897020711, 'alt': 3775.2082938997423, 'gspd': 116.05724259972125, 'crs': 5.839736777653858, 'v_rate': -22.691458989032, 'turn_rate': -0.0006733378169719655, 'long_acc': -0.24263653271181954, 'v_acc': 0.27376739920391246}\n",
      "{'callsign': 'SAS123', 'toa': 1669752924.5876372, 'lat': 55.84765367931159, 'lon': 12.909783738148795, 'alt': 3774.7389252458393, 'gspd': 116.0309554779616, 'crs': 5.83964719695753, 'v_rate': -22.978881325068926, 'turn_rate': -0.0012059265832191383, 'long_acc': -0.25508292640531444, 'v_acc': 0.6203842326915753}\n",
      "{'callsign': 'SAS123', 'toa': 1669752924.9426372, 'lat': 55.847986701935504, 'lon': 12.909451473225392, 'alt': 3774.239943595688, 'gspd': 115.99728498270866, 'crs': 5.839516919268568, 'v_rate': -23.00618882152313, 'turn_rate': -0.0008713469094693715, 'long_acc': -0.297502363623815, 'v_acc': 0.47414988756964427}\n",
      "{'callsign': 'SAS123', 'toa': 1669752925.280856, 'lat': 55.84828497604109, 'lon': 12.909175624673832, 'alt': 3773.8889124994857, 'gspd': 115.96404215438766, 'crs': 5.8394558139729975, 'v_rate': -22.975183460211817, 'turn_rate': 5.622952517095119e-05, 'long_acc': -0.30071775811047685, 'v_acc': 0.5397457139136835}\n",
      "{'callsign': 'SAS123', 'toa': 1669752925.6374006, 'lat': 55.84862189753136, 'lon': 12.908880614992714, 'alt': 3773.552118016653, 'gspd': 115.9297806972522, 'crs': 5.839487963075959, 'v_rate': -22.89901479616811, 'turn_rate': 0.0005663811386071516, 'long_acc': -0.2797335568006528, 'v_acc': 0.7254563120945181}\n",
      "{'callsign': 'SAS123', 'toa': 1669752925.9932344, 'lat': 55.84895768429793, 'lon': 12.908573243683078, 'alt': 3773.3158357203274, 'gspd': 115.89762002022074, 'crs': 5.83954998383771, 'v_rate': -22.77403706542644, 'turn_rate': 0.0005064441124294579, 'long_acc': -0.24410278769663632, 'v_acc': 0.8308294968442372}\n",
      "{'callsign': 'SAS123', 'toa': 1669752926.3636901, 'lat': 55.84929421926599, 'lon': 12.908253685920771, 'alt': 3773.157362844689, 'gspd': 115.86617634514359, 'crs': 5.8395891618298545, 'v_rate': -22.591190433599706, 'turn_rate': 0.00015647587529699214, 'long_acc': -0.19647171646907702, 'v_acc': 1.0235810553065583}\n",
      "{'callsign': 'SAS123', 'toa': 1669752926.7368, 'lat': 55.84965668956853, 'lon': 12.90792245695221, 'alt': 3773.128868523917, 'gspd': 115.83687884927295, 'crs': 5.839594015848679, 'v_rate': -22.267194660797664, 'turn_rate': -0.00030288107066275567, 'long_acc': -0.1974059002637497, 'v_acc': 0.48222606313172306}\n",
      "{'callsign': 'SAS123', 'toa': 1669752927.122341, 'lat': 55.84999144992256, 'lon': 12.907589120506282, 'alt': 3773.2167348501316, 'gspd': 115.80941018648308, 'crs': 5.839523592927854, 'v_rate': -21.997094232650085, 'turn_rate': -0.0008950122067663482, 'long_acc': -0.1560909738327536, 'v_acc': 0.33374722658185374}\n",
      "{'callsign': 'SAS123', 'toa': 1669752927.462574, 'lat': 55.85030808399813, 'lon': 12.907312245344103, 'alt': 3773.3332837064486, 'gspd': 115.79391550938448, 'crs': 5.839450285133069, 'v_rate': -21.91566887684699, 'turn_rate': -0.0007753305755619771, 'long_acc': -0.1550715801952232, 'v_acc': 0.15904032406293483}\n",
      "{'callsign': 'SAS123', 'toa': 1669752927.8514295, 'lat': 55.85066749996737, 'lon': 12.906972224010193, 'alt': 3773.517351540035, 'gspd': 115.77486115543012, 'crs': 5.8393763310647335, 'v_rate': -21.912647428893244, 'turn_rate': -5.198378937913072e-05, 'long_acc': -0.13339030523409542, 'v_acc': -0.44255035273185284}\n",
      "{'callsign': 'SAS123', 'toa': 1669752928.2084832, 'lat': 55.851004472289084, 'lon': 12.906664456189, 'alt': 3773.681113046003, 'gspd': 115.76218491156637, 'crs': 5.839383930345976, 'v_rate': -22.033276200854367, 'turn_rate': 0.00036170237279266993, 'long_acc': -0.13428145754991597, 'v_acc': -0.5545061901172723}\n"
     ]
    },
    {
     "ename": "KeyboardInterrupt",
     "evalue": "",
     "output_type": "error",
     "traceback": [
      "\u001b[1;31m---------------------------------------------------------------------------\u001b[0m",
      "\u001b[1;31mKeyboardInterrupt\u001b[0m                         Traceback (most recent call last)",
      "\u001b[1;32mc:\\Users\\Erik\\Documents\\MSFS_NARSIM_GUI\\msfs-narsim-client\\sandbox\\solo-flight-feeder-test.ipynb Cell 4\u001b[0m in \u001b[0;36m<module>\u001b[1;34m\u001b[0m\n\u001b[0;32m     <a href='vscode-notebook-cell:/c%3A/Users/Erik/Documents/MSFS_NARSIM_GUI/msfs-narsim-client/sandbox/solo-flight-feeder-test.ipynb#W6sZmlsZQ%3D%3D?line=34'>35</a>\u001b[0m \u001b[39mif\u001b[39;00m MSFS_data_stream_is_initialized:\n\u001b[0;32m     <a href='vscode-notebook-cell:/c%3A/Users/Erik/Documents/MSFS_NARSIM_GUI/msfs-narsim-client/sandbox/solo-flight-feeder-test.ipynb#W6sZmlsZQ%3D%3D?line=35'>36</a>\u001b[0m     \u001b[39mtry\u001b[39;00m:\n\u001b[1;32m---> <a href='vscode-notebook-cell:/c%3A/Users/Erik/Documents/MSFS_NARSIM_GUI/msfs-narsim-client/sandbox/solo-flight-feeder-test.ipynb#W6sZmlsZQ%3D%3D?line=36'>37</a>\u001b[0m         lat \u001b[39m=\u001b[39m lat_finder\u001b[39m.\u001b[39;49mget()\n\u001b[0;32m     <a href='vscode-notebook-cell:/c%3A/Users/Erik/Documents/MSFS_NARSIM_GUI/msfs-narsim-client/sandbox/solo-flight-feeder-test.ipynb#W6sZmlsZQ%3D%3D?line=37'>38</a>\u001b[0m         lon \u001b[39m=\u001b[39m lon_finder\u001b[39m.\u001b[39mget()\n\u001b[0;32m     <a href='vscode-notebook-cell:/c%3A/Users/Erik/Documents/MSFS_NARSIM_GUI/msfs-narsim-client/sandbox/solo-flight-feeder-test.ipynb#W6sZmlsZQ%3D%3D?line=38'>39</a>\u001b[0m         alt \u001b[39m=\u001b[39m alt_finder\u001b[39m.\u001b[39mget()\n",
      "File \u001b[1;32m~\\AppData\\Roaming\\Python\\Python310\\site-packages\\SimConnect\\RequestList.py:9\u001b[0m, in \u001b[0;36mRequest.get\u001b[1;34m(self)\u001b[0m\n\u001b[0;32m      8\u001b[0m \u001b[39mdef\u001b[39;00m \u001b[39mget\u001b[39m(\u001b[39mself\u001b[39m):\n\u001b[1;32m----> 9\u001b[0m \t\u001b[39mreturn\u001b[39;00m \u001b[39mself\u001b[39;49m\u001b[39m.\u001b[39;49mvalue\n",
      "File \u001b[1;32m~\\AppData\\Roaming\\Python\\Python310\\site-packages\\SimConnect\\RequestList.py:19\u001b[0m, in \u001b[0;36mRequest.value\u001b[1;34m(self)\u001b[0m\n\u001b[0;32m     16\u001b[0m \u001b[39mif\u001b[39;00m \u001b[39mself\u001b[39m\u001b[39m.\u001b[39m_deff_test():\n\u001b[0;32m     17\u001b[0m \t\u001b[39m# self.sm.run()\u001b[39;00m\n\u001b[0;32m     18\u001b[0m \t\u001b[39mif\u001b[39;00m (\u001b[39mself\u001b[39m\u001b[39m.\u001b[39mLastData \u001b[39m+\u001b[39m \u001b[39mself\u001b[39m\u001b[39m.\u001b[39mtime) \u001b[39m<\u001b[39m millis():\n\u001b[1;32m---> 19\u001b[0m \t\t\u001b[39mif\u001b[39;00m \u001b[39mself\u001b[39;49m\u001b[39m.\u001b[39;49msm\u001b[39m.\u001b[39;49mget_data(\u001b[39mself\u001b[39;49m):\n\u001b[0;32m     20\u001b[0m \t\t\t\u001b[39mself\u001b[39m\u001b[39m.\u001b[39mLastData \u001b[39m=\u001b[39m millis()\n\u001b[0;32m     21\u001b[0m \t\t\u001b[39melse\u001b[39;00m:\n",
      "File \u001b[1;32m~\\AppData\\Roaming\\Python\\Python310\\site-packages\\SimConnect\\SimConnect.py:258\u001b[0m, in \u001b[0;36mSimConnect.get_data\u001b[1;34m(self, _Request)\u001b[0m\n\u001b[0;32m    255\u001b[0m attemps \u001b[39m=\u001b[39m \u001b[39m0\u001b[39m\n\u001b[0;32m    256\u001b[0m \u001b[39mwhile\u001b[39;00m _Request\u001b[39m.\u001b[39moutData \u001b[39mis\u001b[39;00m \u001b[39mNone\u001b[39;00m \u001b[39mand\u001b[39;00m attemps \u001b[39m<\u001b[39m _Request\u001b[39m.\u001b[39mattemps:\n\u001b[0;32m    257\u001b[0m \t\u001b[39m# self.run()\u001b[39;00m\n\u001b[1;32m--> 258\u001b[0m \ttime\u001b[39m.\u001b[39;49msleep(\u001b[39m.01\u001b[39;49m)\n\u001b[0;32m    259\u001b[0m \tattemps \u001b[39m+\u001b[39m\u001b[39m=\u001b[39m \u001b[39m1\u001b[39m\n\u001b[0;32m    260\u001b[0m \u001b[39mif\u001b[39;00m _Request\u001b[39m.\u001b[39moutData \u001b[39mis\u001b[39;00m \u001b[39mNone\u001b[39;00m:\n",
      "\u001b[1;31mKeyboardInterrupt\u001b[0m: "
     ]
    }
   ],
   "source": [
    "# Initialize time.\n",
    "last_time = time.time()\n",
    "\n",
    "# Main loop\n",
    "with socket.socket(socket.AF_INET, socket.SOCK_STREAM) as s:\n",
    "    \n",
    "    while True:\n",
    "        if not MSFS_is_connected:\n",
    "            ar, MSFS_is_connected = connect_MSFS()\n",
    "\n",
    "        if (not NARSIM_is_connected) and send_data_to_NARSIM:\n",
    "            NARSIM_is_connected = connect_NARSIM(s)\n",
    "        \n",
    "        current_time = time.time()\n",
    "        if (current_time >= last_time + time_interval_feeder):\n",
    "            last_time = current_time\n",
    "            toa = last_time\n",
    "\n",
    "            if not MSFS_data_stream_is_initialized:\n",
    "                try:\n",
    "                    lat_finder = ar.find(lat_varname)\n",
    "                    lon_finder = ar.find(lon_varname)\n",
    "                    alt_finder = ar.find(alt_varname)\n",
    "                    gspd_finder = ar.find(gspd_varname)\n",
    "                    crs_finder = ar.find(crs_varname)\n",
    "                    v_rate_finder = ar.find(v_rate_varname)\n",
    "                    turn_rate_finder = ar.find(turn_rate_varname)\n",
    "                    long_acc_finder = ar.find(long_acc_varname)\n",
    "                    v_acc_finder = ar.find(v_acc_varname)\n",
    "\n",
    "                    MSFS_data_stream_is_initialized = True\n",
    "                except (ConnectionError, OSError):\n",
    "                    print('Lost connection with MSFS. Unable to send TCP packet.')\n",
    "\n",
    "            if MSFS_data_stream_is_initialized:\n",
    "                try:\n",
    "                    lat = lat_finder.get()\n",
    "                    lon = lon_finder.get()\n",
    "                    alt = alt_finder.get()\n",
    "                    gspd = gspd_finder.get() * KNOTS_TO_METER_PER_SEC # send m/s to Narsim\n",
    "                    crs = crs_finder.get()\n",
    "                    v_rate = v_rate_finder.get()\n",
    "                    turn_rate = turn_rate_finder.get()\n",
    "                    long_acc = long_acc_finder.get()\n",
    "                    v_acc = v_acc_finder.get()\n",
    "\n",
    "                    translation_dict = {'callsign':callsign, 'toa':toa, 'lat':lat, 'lon':lon, 'alt':alt, 'gspd':gspd, 'crs':crs, 'v_rate':v_rate, 'turn_rate':turn_rate, 'long_acc':long_acc, 'v_acc':v_acc}\n",
    "                    xml_output = xmlTemplate.format(**translation_dict)\n",
    "                    #print(xml_output)\n",
    "                    print(translation_dict)\n",
    "\n",
    "                    try:\n",
    "                        if send_data_to_NARSIM:\n",
    "                            s.send(xml_output.encode())\n",
    "                    except socket.error as msg:\n",
    "                        print(f'Lost connection to NARSIM, TCP socket error: ' + msg)\n",
    "                except (ConnectionError, OSError):\n",
    "                    print('Lost connection with MSFS.')\n",
    "        time.sleep(0.05)"
   ]
  },
  {
   "cell_type": "code",
   "execution_count": 11,
   "metadata": {},
   "outputs": [
    {
     "ename": "UnboundLocalError",
     "evalue": "local variable 'MSFS_is_connected' referenced before assignment",
     "output_type": "error",
     "traceback": [
      "\u001b[1;31m---------------------------------------------------------------------------\u001b[0m",
      "\u001b[1;31mUnboundLocalError\u001b[0m                         Traceback (most recent call last)",
      "\u001b[1;32mc:\\Users\\Erik\\Documents\\MSFS_NARSIM_GUI\\msfs-narsim-client\\sandbox\\solo-flight-feeder-test.ipynb Cell 5\u001b[0m in \u001b[0;36m<module>\u001b[1;34m\u001b[0m\n\u001b[1;32m----> <a href='vscode-notebook-cell:/c%3A/Users/Erik/Documents/MSFS_NARSIM_GUI/msfs-narsim-client/sandbox/solo-flight-feeder-test.ipynb#X10sZmlsZQ%3D%3D?line=0'>1</a>\u001b[0m main()\n",
      "\u001b[1;32mc:\\Users\\Erik\\Documents\\MSFS_NARSIM_GUI\\msfs-narsim-client\\sandbox\\solo-flight-feeder-test.ipynb Cell 5\u001b[0m in \u001b[0;36mmain\u001b[1;34m()\u001b[0m\n\u001b[0;32m      <a href='vscode-notebook-cell:/c%3A/Users/Erik/Documents/MSFS_NARSIM_GUI/msfs-narsim-client/sandbox/solo-flight-feeder-test.ipynb#X10sZmlsZQ%3D%3D?line=6'>7</a>\u001b[0m \u001b[39mwith\u001b[39;00m socket\u001b[39m.\u001b[39msocket(socket\u001b[39m.\u001b[39mAF_INET, socket\u001b[39m.\u001b[39mSOCK_STREAM) \u001b[39mas\u001b[39;00m s:\n\u001b[0;32m      <a href='vscode-notebook-cell:/c%3A/Users/Erik/Documents/MSFS_NARSIM_GUI/msfs-narsim-client/sandbox/solo-flight-feeder-test.ipynb#X10sZmlsZQ%3D%3D?line=8'>9</a>\u001b[0m     \u001b[39mwhile\u001b[39;00m \u001b[39mTrue\u001b[39;00m:\n\u001b[1;32m---> <a href='vscode-notebook-cell:/c%3A/Users/Erik/Documents/MSFS_NARSIM_GUI/msfs-narsim-client/sandbox/solo-flight-feeder-test.ipynb#X10sZmlsZQ%3D%3D?line=9'>10</a>\u001b[0m         \u001b[39mif\u001b[39;00m \u001b[39mnot\u001b[39;00m MSFS_is_connected:\n\u001b[0;32m     <a href='vscode-notebook-cell:/c%3A/Users/Erik/Documents/MSFS_NARSIM_GUI/msfs-narsim-client/sandbox/solo-flight-feeder-test.ipynb#X10sZmlsZQ%3D%3D?line=10'>11</a>\u001b[0m             ar, MSFS_is_connected \u001b[39m=\u001b[39m connect_MSFS()\n\u001b[0;32m     <a href='vscode-notebook-cell:/c%3A/Users/Erik/Documents/MSFS_NARSIM_GUI/msfs-narsim-client/sandbox/solo-flight-feeder-test.ipynb#X10sZmlsZQ%3D%3D?line=12'>13</a>\u001b[0m         \u001b[39mif\u001b[39;00m (\u001b[39mnot\u001b[39;00m NARSIM_is_connected) \u001b[39mand\u001b[39;00m send_data_to_NARSIM:\n",
      "\u001b[1;31mUnboundLocalError\u001b[0m: local variable 'MSFS_is_connected' referenced before assignment"
     ]
    }
   ],
   "source": [
    "main()"
   ]
  },
  {
   "cell_type": "code",
   "execution_count": 23,
   "metadata": {},
   "outputs": [
    {
     "name": "stdout",
     "output_type": "stream",
     "text": [
      "<?xml version=\"1.0\" encoding=\"UTF-8\"?><NLRIn source=\"NARSIM\" xmlns:sti=\"http://www.w3.org/2001/XMLSchema-instance\"><truth><callsign>{callsign}</callsign><ssr_s>877777</ssr_s><lat unit=\"deg\">{lat}</lat><lon unit=\"deg\">{lon}</lon><alt unit=\"ft\">{alt}</alt><gspd unit=\"ms\">{gspd}</gspd><crs unit=\"degrees\">{crs}</crs><v_rate unit=\"ms\">{v_rate}</v_rate><turn_rate>{turn_rate}</turn_rate></truth></NLRIn>\n"
     ]
    }
   ],
   "source": [
    "XML_TEMPLATE_TRUTH = (\n",
    "    '<?xml version=\"1.0\" encoding=\"UTF-8\"?><NLRIn source=\"NARSIM\" xmlns:sti=\"http://www.w3.org/2001/XMLSchema-instance\">'\n",
    "    '<truth><callsign>{callsign}</callsign><ssr_s>877777</ssr_s><lat unit=\"deg\">{lat}</lat>'\n",
    "    '<lon unit=\"deg\">{lon}</lon><alt unit=\"ft\">{alt}</alt><gspd unit=\"ms\">{gspd}</gspd>'\n",
    "    '<crs unit=\"degrees\">{crs}</crs><v_rate unit=\"ms\">{v_rate}</v_rate>'\n",
    "    '<turn_rate>{turn_rate}</turn_rate></truth></NLRIn>'\n",
    ")\n",
    "\n",
    "print(XML_TEMPLATE_TRUTH)"
   ]
  },
  {
   "cell_type": "code",
   "execution_count": 24,
   "metadata": {},
   "outputs": [],
   "source": [
    "d = {'a':3, 'b':2}"
   ]
  },
  {
   "cell_type": "code",
   "execution_count": null,
   "metadata": {},
   "outputs": [],
   "source": [
    "d"
   ]
  }
 ],
 "metadata": {
  "kernelspec": {
   "display_name": "Python 3.10.2 64-bit",
   "language": "python",
   "name": "python3"
  },
  "language_info": {
   "codemirror_mode": {
    "name": "ipython",
    "version": 3
   },
   "file_extension": ".py",
   "mimetype": "text/x-python",
   "name": "python",
   "nbconvert_exporter": "python",
   "pygments_lexer": "ipython3",
   "version": "3.10.2"
  },
  "orig_nbformat": 4,
  "vscode": {
   "interpreter": {
    "hash": "f46241d53c806a2be58416ede3319a505f9f0b1d50c1d92d64820017b6660957"
   }
  }
 },
 "nbformat": 4,
 "nbformat_minor": 2
}
